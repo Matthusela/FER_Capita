{
 "cells": [
  {
   "cell_type": "markdown",
   "id": "fa50af78",
   "metadata": {},
   "source": [
    "# Training Facial Expression CNN Using Tensor Flow"
   ]
  },
  {
   "cell_type": "markdown",
   "id": "a813c341",
   "metadata": {},
   "source": [
    "## Importing modules and initial data sets \n",
    "####  (source: https://www.kaggle.com/datasets/debanga/facial-expression-recognition-challenge)"
   ]
  },
  {
   "cell_type": "code",
   "execution_count": 5,
   "id": "f8b60e33",
   "metadata": {},
   "outputs": [],
   "source": [
    "import pandas as pd\n",
    "import os\n",
    "import numpy as np\n",
    "import tensorflow as tf\n",
    "import matplotlib.pyplot as plt\n",
    "import math\n",
    "from tensorflow.keras.layers import  Conv2D\n",
    "from tensorflow.keras.layers import  MaxPooling2D,AveragePooling2D\n",
    "from tensorflow.keras.layers import  Dense\n",
    "from tensorflow.keras import datasets\n",
    "from tensorflow.keras import models, layers\n",
    "from tensorflow.keras import optimizers\n"
   ]
  },
  {
   "cell_type": "markdown",
   "id": "c2ff4790",
   "metadata": {},
   "source": [
    "From source above this is how the emotion codes correlate to the emotions"
   ]
  },
  {
   "cell_type": "code",
   "execution_count": 6,
   "id": "0c73ddee",
   "metadata": {},
   "outputs": [],
   "source": [
    "emotion_dict = {0:\"Angry\", 1:\"Disgust\", 2:\"Fear\", 3:\"Happy\", 4:\"Sad\", 5:\"Surprise\", 6:\"Neutral\"}"
   ]
  },
  {
   "cell_type": "code",
   "execution_count": 7,
   "id": "42817399",
   "metadata": {},
   "outputs": [],
   "source": [
    "#test_df = pd.read_csv(r\"C:\\Users\\matt8\\Downloads\\faceset1\\test.csv\")"
   ]
  },
  {
   "cell_type": "code",
   "execution_count": 8,
   "id": "31551b0e",
   "metadata": {},
   "outputs": [],
   "source": [
    "#test_df"
   ]
  },
  {
   "cell_type": "code",
   "execution_count": 9,
   "id": "471d00d7",
   "metadata": {},
   "outputs": [],
   "source": [
    "df = pd.read_csv(r\"C:\\Users\\matt8\\Downloads\\faceset1\\icml_face_data.csv\")"
   ]
  },
  {
   "cell_type": "code",
   "execution_count": 10,
   "id": "2d53a77a",
   "metadata": {},
   "outputs": [],
   "source": [
    "df = df.drop(\" Usage\",axis=1).copy()"
   ]
  },
  {
   "cell_type": "code",
   "execution_count": 11,
   "id": "51868bac",
   "metadata": {},
   "outputs": [
    {
     "data": {
      "text/html": [
       "<div>\n",
       "<style scoped>\n",
       "    .dataframe tbody tr th:only-of-type {\n",
       "        vertical-align: middle;\n",
       "    }\n",
       "\n",
       "    .dataframe tbody tr th {\n",
       "        vertical-align: top;\n",
       "    }\n",
       "\n",
       "    .dataframe thead th {\n",
       "        text-align: right;\n",
       "    }\n",
       "</style>\n",
       "<table border=\"1\" class=\"dataframe\">\n",
       "  <thead>\n",
       "    <tr style=\"text-align: right;\">\n",
       "      <th></th>\n",
       "      <th>emotion</th>\n",
       "      <th>pixels</th>\n",
       "    </tr>\n",
       "  </thead>\n",
       "  <tbody>\n",
       "    <tr>\n",
       "      <th>0</th>\n",
       "      <td>0</td>\n",
       "      <td>70 80 82 72 58 58 60 63 54 58 60 48 89 115 121...</td>\n",
       "    </tr>\n",
       "    <tr>\n",
       "      <th>1</th>\n",
       "      <td>0</td>\n",
       "      <td>151 150 147 155 148 133 111 140 170 174 182 15...</td>\n",
       "    </tr>\n",
       "    <tr>\n",
       "      <th>2</th>\n",
       "      <td>2</td>\n",
       "      <td>231 212 156 164 174 138 161 173 182 200 106 38...</td>\n",
       "    </tr>\n",
       "    <tr>\n",
       "      <th>3</th>\n",
       "      <td>4</td>\n",
       "      <td>24 32 36 30 32 23 19 20 30 41 21 22 32 34 21 1...</td>\n",
       "    </tr>\n",
       "    <tr>\n",
       "      <th>4</th>\n",
       "      <td>6</td>\n",
       "      <td>4 0 0 0 0 0 0 0 0 0 0 0 3 15 23 28 48 50 58 84...</td>\n",
       "    </tr>\n",
       "    <tr>\n",
       "      <th>...</th>\n",
       "      <td>...</td>\n",
       "      <td>...</td>\n",
       "    </tr>\n",
       "    <tr>\n",
       "      <th>35882</th>\n",
       "      <td>6</td>\n",
       "      <td>50 36 17 22 23 29 33 39 34 37 37 37 39 43 48 5...</td>\n",
       "    </tr>\n",
       "    <tr>\n",
       "      <th>35883</th>\n",
       "      <td>3</td>\n",
       "      <td>178 174 172 173 181 188 191 194 196 199 200 20...</td>\n",
       "    </tr>\n",
       "    <tr>\n",
       "      <th>35884</th>\n",
       "      <td>0</td>\n",
       "      <td>17 17 16 23 28 22 19 17 25 26 20 24 31 19 27 9...</td>\n",
       "    </tr>\n",
       "    <tr>\n",
       "      <th>35885</th>\n",
       "      <td>3</td>\n",
       "      <td>30 28 28 29 31 30 42 68 79 81 77 67 67 71 63 6...</td>\n",
       "    </tr>\n",
       "    <tr>\n",
       "      <th>35886</th>\n",
       "      <td>2</td>\n",
       "      <td>19 13 14 12 13 16 21 33 50 57 71 84 97 108 122...</td>\n",
       "    </tr>\n",
       "  </tbody>\n",
       "</table>\n",
       "<p>35887 rows × 2 columns</p>\n",
       "</div>"
      ],
      "text/plain": [
       "       emotion                                             pixels\n",
       "0            0  70 80 82 72 58 58 60 63 54 58 60 48 89 115 121...\n",
       "1            0  151 150 147 155 148 133 111 140 170 174 182 15...\n",
       "2            2  231 212 156 164 174 138 161 173 182 200 106 38...\n",
       "3            4  24 32 36 30 32 23 19 20 30 41 21 22 32 34 21 1...\n",
       "4            6  4 0 0 0 0 0 0 0 0 0 0 0 3 15 23 28 48 50 58 84...\n",
       "...        ...                                                ...\n",
       "35882        6  50 36 17 22 23 29 33 39 34 37 37 37 39 43 48 5...\n",
       "35883        3  178 174 172 173 181 188 191 194 196 199 200 20...\n",
       "35884        0  17 17 16 23 28 22 19 17 25 26 20 24 31 19 27 9...\n",
       "35885        3  30 28 28 29 31 30 42 68 79 81 77 67 67 71 63 6...\n",
       "35886        2  19 13 14 12 13 16 21 33 50 57 71 84 97 108 122...\n",
       "\n",
       "[35887 rows x 2 columns]"
      ]
     },
     "execution_count": 11,
     "metadata": {},
     "output_type": "execute_result"
    }
   ],
   "source": [
    "df"
   ]
  },
  {
   "cell_type": "markdown",
   "id": "a1c6fae4",
   "metadata": {},
   "source": [
    "# "
   ]
  },
  {
   "cell_type": "markdown",
   "id": "11a448a7",
   "metadata": {},
   "source": [
    "## Converting pixel data into usable form that TF (tensorflow) will like"
   ]
  },
  {
   "cell_type": "code",
   "execution_count": 12,
   "id": "61a9a2bf",
   "metadata": {},
   "outputs": [],
   "source": [
    "df.columns = [\"emotion\",\"pixels\"]"
   ]
  },
  {
   "cell_type": "markdown",
   "id": "37ff7577",
   "metadata": {},
   "source": [
    "The pixel information from the source comes as a string of numbers of 1, 2, or 3 digits - from 0 to 255 (incl) separated by spaces. Following cell takes that string for each image and converts into a numpy array. The datatype np.uint16 is the most efficient way to encode these values."
   ]
  },
  {
   "cell_type": "code",
   "execution_count": 13,
   "id": "b1347f6a",
   "metadata": {},
   "outputs": [],
   "source": [
    "df[\"pixels_list\"] = df.pixels.map(lambda x: np.fromstring(x, dtype=np.uint16, sep=' '))"
   ]
  },
  {
   "cell_type": "markdown",
   "id": "64fd5bce",
   "metadata": {},
   "source": [
    "Functions to retrieve the dimensions of the image dataframes. First one checks the number of numbers in the pixel string, ensures that all images in the data set have the same dimensions, and that there are a square number of number - then returns the (positive) root of this number. Second one just returns the number of images in that dataframe"
   ]
  },
  {
   "cell_type": "code",
   "execution_count": 14,
   "id": "52e7b5b9",
   "metadata": {},
   "outputs": [],
   "source": [
    "def image_dimension(data_frame):\n",
    "    pxls = data_frame.pixels_list.apply(len)\n",
    "    if pxls.isin(np.array(pxls)).all() != True:\n",
    "        return \"Image pixelation is not consistent across images\"\n",
    "    else:\n",
    "        length = np.array(pxls,dtype =np.uint16)[0]\n",
    "        dim = math.sqrt(length)\n",
    "        if dim%1 == 0:\n",
    "            return int(dim)\n",
    "        else:\n",
    "            return \"Image pixelation has not produced a square image\"\n",
    "        \n",
    "def number_of_images(data_frame):\n",
    "    return len(data_frame.index)"
   ]
  },
  {
   "cell_type": "markdown",
   "id": "4a0b8d3d",
   "metadata": {},
   "source": [
    "inp_dim (input dimensions) should not change throughout this workbook - in theory this allows for a different dataframe to be inputted and the model to still work although some manipulation will be required on the dataframe first."
   ]
  },
  {
   "cell_type": "code",
   "execution_count": 15,
   "id": "937d5f3c",
   "metadata": {},
   "outputs": [],
   "source": [
    "inp_dim = image_dimension(df)\n",
    "num_dim = number_of_images(df)"
   ]
  },
  {
   "cell_type": "markdown",
   "id": "e7017776",
   "metadata": {},
   "source": [
    "After defining inp_dim it can be used to reshape the lists/np.arrays of pixels into matrices to reflect the square nature of the images and to make formatting in TF easier later on"
   ]
  },
  {
   "cell_type": "code",
   "execution_count": 16,
   "id": "778e29ec",
   "metadata": {},
   "outputs": [],
   "source": [
    "pixels_mat =  df.pixels_list.apply(lambda x : x.reshape(inp_dim,inp_dim))"
   ]
  },
  {
   "cell_type": "code",
   "execution_count": 17,
   "id": "7472de3d",
   "metadata": {},
   "outputs": [],
   "source": [
    "df[\"pixels_mat\"] = pixels_mat\n"
   ]
  },
  {
   "cell_type": "markdown",
   "id": "26870f22",
   "metadata": {},
   "source": [
    "Final version of intial dataframe:"
   ]
  },
  {
   "cell_type": "code",
   "execution_count": 18,
   "id": "8aeb6046",
   "metadata": {},
   "outputs": [
    {
     "data": {
      "text/html": [
       "<div>\n",
       "<style scoped>\n",
       "    .dataframe tbody tr th:only-of-type {\n",
       "        vertical-align: middle;\n",
       "    }\n",
       "\n",
       "    .dataframe tbody tr th {\n",
       "        vertical-align: top;\n",
       "    }\n",
       "\n",
       "    .dataframe thead th {\n",
       "        text-align: right;\n",
       "    }\n",
       "</style>\n",
       "<table border=\"1\" class=\"dataframe\">\n",
       "  <thead>\n",
       "    <tr style=\"text-align: right;\">\n",
       "      <th></th>\n",
       "      <th>emotion</th>\n",
       "      <th>pixels</th>\n",
       "      <th>pixels_list</th>\n",
       "      <th>pixels_mat</th>\n",
       "    </tr>\n",
       "  </thead>\n",
       "  <tbody>\n",
       "    <tr>\n",
       "      <th>0</th>\n",
       "      <td>0</td>\n",
       "      <td>70 80 82 72 58 58 60 63 54 58 60 48 89 115 121...</td>\n",
       "      <td>[70, 80, 82, 72, 58, 58, 60, 63, 54, 58, 60, 4...</td>\n",
       "      <td>[[70, 80, 82, 72, 58, 58, 60, 63, 54, 58, 60, ...</td>\n",
       "    </tr>\n",
       "    <tr>\n",
       "      <th>1</th>\n",
       "      <td>0</td>\n",
       "      <td>151 150 147 155 148 133 111 140 170 174 182 15...</td>\n",
       "      <td>[151, 150, 147, 155, 148, 133, 111, 140, 170, ...</td>\n",
       "      <td>[[151, 150, 147, 155, 148, 133, 111, 140, 170,...</td>\n",
       "    </tr>\n",
       "    <tr>\n",
       "      <th>2</th>\n",
       "      <td>2</td>\n",
       "      <td>231 212 156 164 174 138 161 173 182 200 106 38...</td>\n",
       "      <td>[231, 212, 156, 164, 174, 138, 161, 173, 182, ...</td>\n",
       "      <td>[[231, 212, 156, 164, 174, 138, 161, 173, 182,...</td>\n",
       "    </tr>\n",
       "    <tr>\n",
       "      <th>3</th>\n",
       "      <td>4</td>\n",
       "      <td>24 32 36 30 32 23 19 20 30 41 21 22 32 34 21 1...</td>\n",
       "      <td>[24, 32, 36, 30, 32, 23, 19, 20, 30, 41, 21, 2...</td>\n",
       "      <td>[[24, 32, 36, 30, 32, 23, 19, 20, 30, 41, 21, ...</td>\n",
       "    </tr>\n",
       "    <tr>\n",
       "      <th>4</th>\n",
       "      <td>6</td>\n",
       "      <td>4 0 0 0 0 0 0 0 0 0 0 0 3 15 23 28 48 50 58 84...</td>\n",
       "      <td>[4, 0, 0, 0, 0, 0, 0, 0, 0, 0, 0, 0, 3, 15, 23...</td>\n",
       "      <td>[[4, 0, 0, 0, 0, 0, 0, 0, 0, 0, 0, 0, 3, 15, 2...</td>\n",
       "    </tr>\n",
       "    <tr>\n",
       "      <th>...</th>\n",
       "      <td>...</td>\n",
       "      <td>...</td>\n",
       "      <td>...</td>\n",
       "      <td>...</td>\n",
       "    </tr>\n",
       "    <tr>\n",
       "      <th>35882</th>\n",
       "      <td>6</td>\n",
       "      <td>50 36 17 22 23 29 33 39 34 37 37 37 39 43 48 5...</td>\n",
       "      <td>[50, 36, 17, 22, 23, 29, 33, 39, 34, 37, 37, 3...</td>\n",
       "      <td>[[50, 36, 17, 22, 23, 29, 33, 39, 34, 37, 37, ...</td>\n",
       "    </tr>\n",
       "    <tr>\n",
       "      <th>35883</th>\n",
       "      <td>3</td>\n",
       "      <td>178 174 172 173 181 188 191 194 196 199 200 20...</td>\n",
       "      <td>[178, 174, 172, 173, 181, 188, 191, 194, 196, ...</td>\n",
       "      <td>[[178, 174, 172, 173, 181, 188, 191, 194, 196,...</td>\n",
       "    </tr>\n",
       "    <tr>\n",
       "      <th>35884</th>\n",
       "      <td>0</td>\n",
       "      <td>17 17 16 23 28 22 19 17 25 26 20 24 31 19 27 9...</td>\n",
       "      <td>[17, 17, 16, 23, 28, 22, 19, 17, 25, 26, 20, 2...</td>\n",
       "      <td>[[17, 17, 16, 23, 28, 22, 19, 17, 25, 26, 20, ...</td>\n",
       "    </tr>\n",
       "    <tr>\n",
       "      <th>35885</th>\n",
       "      <td>3</td>\n",
       "      <td>30 28 28 29 31 30 42 68 79 81 77 67 67 71 63 6...</td>\n",
       "      <td>[30, 28, 28, 29, 31, 30, 42, 68, 79, 81, 77, 6...</td>\n",
       "      <td>[[30, 28, 28, 29, 31, 30, 42, 68, 79, 81, 77, ...</td>\n",
       "    </tr>\n",
       "    <tr>\n",
       "      <th>35886</th>\n",
       "      <td>2</td>\n",
       "      <td>19 13 14 12 13 16 21 33 50 57 71 84 97 108 122...</td>\n",
       "      <td>[19, 13, 14, 12, 13, 16, 21, 33, 50, 57, 71, 8...</td>\n",
       "      <td>[[19, 13, 14, 12, 13, 16, 21, 33, 50, 57, 71, ...</td>\n",
       "    </tr>\n",
       "  </tbody>\n",
       "</table>\n",
       "<p>35887 rows × 4 columns</p>\n",
       "</div>"
      ],
      "text/plain": [
       "       emotion                                             pixels  \\\n",
       "0            0  70 80 82 72 58 58 60 63 54 58 60 48 89 115 121...   \n",
       "1            0  151 150 147 155 148 133 111 140 170 174 182 15...   \n",
       "2            2  231 212 156 164 174 138 161 173 182 200 106 38...   \n",
       "3            4  24 32 36 30 32 23 19 20 30 41 21 22 32 34 21 1...   \n",
       "4            6  4 0 0 0 0 0 0 0 0 0 0 0 3 15 23 28 48 50 58 84...   \n",
       "...        ...                                                ...   \n",
       "35882        6  50 36 17 22 23 29 33 39 34 37 37 37 39 43 48 5...   \n",
       "35883        3  178 174 172 173 181 188 191 194 196 199 200 20...   \n",
       "35884        0  17 17 16 23 28 22 19 17 25 26 20 24 31 19 27 9...   \n",
       "35885        3  30 28 28 29 31 30 42 68 79 81 77 67 67 71 63 6...   \n",
       "35886        2  19 13 14 12 13 16 21 33 50 57 71 84 97 108 122...   \n",
       "\n",
       "                                             pixels_list  \\\n",
       "0      [70, 80, 82, 72, 58, 58, 60, 63, 54, 58, 60, 4...   \n",
       "1      [151, 150, 147, 155, 148, 133, 111, 140, 170, ...   \n",
       "2      [231, 212, 156, 164, 174, 138, 161, 173, 182, ...   \n",
       "3      [24, 32, 36, 30, 32, 23, 19, 20, 30, 41, 21, 2...   \n",
       "4      [4, 0, 0, 0, 0, 0, 0, 0, 0, 0, 0, 0, 3, 15, 23...   \n",
       "...                                                  ...   \n",
       "35882  [50, 36, 17, 22, 23, 29, 33, 39, 34, 37, 37, 3...   \n",
       "35883  [178, 174, 172, 173, 181, 188, 191, 194, 196, ...   \n",
       "35884  [17, 17, 16, 23, 28, 22, 19, 17, 25, 26, 20, 2...   \n",
       "35885  [30, 28, 28, 29, 31, 30, 42, 68, 79, 81, 77, 6...   \n",
       "35886  [19, 13, 14, 12, 13, 16, 21, 33, 50, 57, 71, 8...   \n",
       "\n",
       "                                              pixels_mat  \n",
       "0      [[70, 80, 82, 72, 58, 58, 60, 63, 54, 58, 60, ...  \n",
       "1      [[151, 150, 147, 155, 148, 133, 111, 140, 170,...  \n",
       "2      [[231, 212, 156, 164, 174, 138, 161, 173, 182,...  \n",
       "3      [[24, 32, 36, 30, 32, 23, 19, 20, 30, 41, 21, ...  \n",
       "4      [[4, 0, 0, 0, 0, 0, 0, 0, 0, 0, 0, 0, 3, 15, 2...  \n",
       "...                                                  ...  \n",
       "35882  [[50, 36, 17, 22, 23, 29, 33, 39, 34, 37, 37, ...  \n",
       "35883  [[178, 174, 172, 173, 181, 188, 191, 194, 196,...  \n",
       "35884  [[17, 17, 16, 23, 28, 22, 19, 17, 25, 26, 20, ...  \n",
       "35885  [[30, 28, 28, 29, 31, 30, 42, 68, 79, 81, 77, ...  \n",
       "35886  [[19, 13, 14, 12, 13, 16, 21, 33, 50, 57, 71, ...  \n",
       "\n",
       "[35887 rows x 4 columns]"
      ]
     },
     "execution_count": 18,
     "metadata": {},
     "output_type": "execute_result"
    }
   ],
   "source": [
    "df"
   ]
  },
  {
   "cell_type": "markdown",
   "id": "8a7a61ea",
   "metadata": {},
   "source": [
    "Despite the seemingly messy way of storing a list and matrix in each row the dataframe does take up very little memory space so is fast and efficient to work with currently."
   ]
  },
  {
   "cell_type": "code",
   "execution_count": 19,
   "id": "f71615d5",
   "metadata": {},
   "outputs": [
    {
     "name": "stdout",
     "output_type": "stream",
     "text": [
      "<class 'pandas.core.frame.DataFrame'>\n",
      "RangeIndex: 35887 entries, 0 to 35886\n",
      "Data columns (total 4 columns):\n",
      " #   Column       Non-Null Count  Dtype \n",
      "---  ------       --------------  ----- \n",
      " 0   emotion      35887 non-null  int64 \n",
      " 1   pixels       35887 non-null  object\n",
      " 2   pixels_list  35887 non-null  object\n",
      " 3   pixels_mat   35887 non-null  object\n",
      "dtypes: int64(1), object(3)\n",
      "memory usage: 1.1+ MB\n"
     ]
    }
   ],
   "source": [
    "df.info()"
   ]
  },
  {
   "cell_type": "code",
   "execution_count": 21,
   "id": "1efab2e4",
   "metadata": {},
   "outputs": [],
   "source": [
    "df.to_pickle(\"TFdf1.pkl\")"
   ]
  },
  {
   "cell_type": "markdown",
   "id": "dd030e42",
   "metadata": {},
   "source": [
    "# "
   ]
  },
  {
   "cell_type": "markdown",
   "id": "5adde8a9",
   "metadata": {},
   "source": [
    "## Creating a different representation of the dataframe where each pixel value gets its own column entry for each image"
   ]
  },
  {
   "cell_type": "markdown",
   "id": "0292291b",
   "metadata": {},
   "source": [
    "Casting the list of pixels into one value per column and then forming a dataframe from this:"
   ]
  },
  {
   "cell_type": "code",
   "execution_count": 10,
   "id": "e148ad98",
   "metadata": {},
   "outputs": [],
   "source": [
    "#df0 = pd.DataFrame( df.pixels_list.tolist())"
   ]
  },
  {
   "cell_type": "code",
   "execution_count": 12,
   "id": "9f5834ab",
   "metadata": {},
   "outputs": [],
   "source": [
    "#df0[\"emotion\"] = df.emotion"
   ]
  },
  {
   "cell_type": "code",
   "execution_count": 13,
   "id": "cf12044b",
   "metadata": {},
   "outputs": [],
   "source": [
    "#l = [\"pixel_\"+str(i) for i in range(len(df0.columns)-1)]"
   ]
  },
  {
   "cell_type": "code",
   "execution_count": 14,
   "id": "a8fe8e3b",
   "metadata": {},
   "outputs": [],
   "source": [
    "#l.append(\"emotion\")"
   ]
  },
  {
   "cell_type": "code",
   "execution_count": 15,
   "id": "9f4b3d3b",
   "metadata": {},
   "outputs": [],
   "source": [
    "#df0.columns = l"
   ]
  },
  {
   "cell_type": "markdown",
   "id": "3e9fbf8d",
   "metadata": {},
   "source": [
    "Below is alternate view of data, tidier in a way - more atomic - but considerably more memory intensive and more unwieldly, will probably be dropped later on"
   ]
  },
  {
   "cell_type": "code",
   "execution_count": 16,
   "id": "facf0ab6",
   "metadata": {
    "scrolled": true
   },
   "outputs": [
    {
     "data": {
      "text/html": [
       "<div>\n",
       "<style scoped>\n",
       "    .dataframe tbody tr th:only-of-type {\n",
       "        vertical-align: middle;\n",
       "    }\n",
       "\n",
       "    .dataframe tbody tr th {\n",
       "        vertical-align: top;\n",
       "    }\n",
       "\n",
       "    .dataframe thead th {\n",
       "        text-align: right;\n",
       "    }\n",
       "</style>\n",
       "<table border=\"1\" class=\"dataframe\">\n",
       "  <thead>\n",
       "    <tr style=\"text-align: right;\">\n",
       "      <th></th>\n",
       "      <th>pixel_0</th>\n",
       "      <th>pixel_1</th>\n",
       "      <th>pixel_2</th>\n",
       "      <th>pixel_3</th>\n",
       "      <th>pixel_4</th>\n",
       "      <th>pixel_5</th>\n",
       "      <th>pixel_6</th>\n",
       "      <th>pixel_7</th>\n",
       "      <th>pixel_8</th>\n",
       "      <th>pixel_9</th>\n",
       "      <th>...</th>\n",
       "      <th>pixel_2295</th>\n",
       "      <th>pixel_2296</th>\n",
       "      <th>pixel_2297</th>\n",
       "      <th>pixel_2298</th>\n",
       "      <th>pixel_2299</th>\n",
       "      <th>pixel_2300</th>\n",
       "      <th>pixel_2301</th>\n",
       "      <th>pixel_2302</th>\n",
       "      <th>pixel_2303</th>\n",
       "      <th>emotion</th>\n",
       "    </tr>\n",
       "  </thead>\n",
       "  <tbody>\n",
       "    <tr>\n",
       "      <th>0</th>\n",
       "      <td>70</td>\n",
       "      <td>80</td>\n",
       "      <td>82</td>\n",
       "      <td>72</td>\n",
       "      <td>58</td>\n",
       "      <td>58</td>\n",
       "      <td>60</td>\n",
       "      <td>63</td>\n",
       "      <td>54</td>\n",
       "      <td>58</td>\n",
       "      <td>...</td>\n",
       "      <td>182</td>\n",
       "      <td>183</td>\n",
       "      <td>136</td>\n",
       "      <td>106</td>\n",
       "      <td>116</td>\n",
       "      <td>95</td>\n",
       "      <td>106</td>\n",
       "      <td>109</td>\n",
       "      <td>82</td>\n",
       "      <td>0</td>\n",
       "    </tr>\n",
       "    <tr>\n",
       "      <th>1</th>\n",
       "      <td>151</td>\n",
       "      <td>150</td>\n",
       "      <td>147</td>\n",
       "      <td>155</td>\n",
       "      <td>148</td>\n",
       "      <td>133</td>\n",
       "      <td>111</td>\n",
       "      <td>140</td>\n",
       "      <td>170</td>\n",
       "      <td>174</td>\n",
       "      <td>...</td>\n",
       "      <td>108</td>\n",
       "      <td>95</td>\n",
       "      <td>108</td>\n",
       "      <td>102</td>\n",
       "      <td>67</td>\n",
       "      <td>171</td>\n",
       "      <td>193</td>\n",
       "      <td>183</td>\n",
       "      <td>184</td>\n",
       "      <td>0</td>\n",
       "    </tr>\n",
       "    <tr>\n",
       "      <th>2</th>\n",
       "      <td>231</td>\n",
       "      <td>212</td>\n",
       "      <td>156</td>\n",
       "      <td>164</td>\n",
       "      <td>174</td>\n",
       "      <td>138</td>\n",
       "      <td>161</td>\n",
       "      <td>173</td>\n",
       "      <td>182</td>\n",
       "      <td>200</td>\n",
       "      <td>...</td>\n",
       "      <td>138</td>\n",
       "      <td>152</td>\n",
       "      <td>122</td>\n",
       "      <td>114</td>\n",
       "      <td>101</td>\n",
       "      <td>97</td>\n",
       "      <td>88</td>\n",
       "      <td>110</td>\n",
       "      <td>152</td>\n",
       "      <td>2</td>\n",
       "    </tr>\n",
       "    <tr>\n",
       "      <th>3</th>\n",
       "      <td>24</td>\n",
       "      <td>32</td>\n",
       "      <td>36</td>\n",
       "      <td>30</td>\n",
       "      <td>32</td>\n",
       "      <td>23</td>\n",
       "      <td>19</td>\n",
       "      <td>20</td>\n",
       "      <td>30</td>\n",
       "      <td>41</td>\n",
       "      <td>...</td>\n",
       "      <td>126</td>\n",
       "      <td>132</td>\n",
       "      <td>132</td>\n",
       "      <td>133</td>\n",
       "      <td>136</td>\n",
       "      <td>139</td>\n",
       "      <td>142</td>\n",
       "      <td>143</td>\n",
       "      <td>142</td>\n",
       "      <td>4</td>\n",
       "    </tr>\n",
       "    <tr>\n",
       "      <th>4</th>\n",
       "      <td>4</td>\n",
       "      <td>0</td>\n",
       "      <td>0</td>\n",
       "      <td>0</td>\n",
       "      <td>0</td>\n",
       "      <td>0</td>\n",
       "      <td>0</td>\n",
       "      <td>0</td>\n",
       "      <td>0</td>\n",
       "      <td>0</td>\n",
       "      <td>...</td>\n",
       "      <td>34</td>\n",
       "      <td>31</td>\n",
       "      <td>31</td>\n",
       "      <td>31</td>\n",
       "      <td>27</td>\n",
       "      <td>31</td>\n",
       "      <td>30</td>\n",
       "      <td>29</td>\n",
       "      <td>30</td>\n",
       "      <td>6</td>\n",
       "    </tr>\n",
       "    <tr>\n",
       "      <th>...</th>\n",
       "      <td>...</td>\n",
       "      <td>...</td>\n",
       "      <td>...</td>\n",
       "      <td>...</td>\n",
       "      <td>...</td>\n",
       "      <td>...</td>\n",
       "      <td>...</td>\n",
       "      <td>...</td>\n",
       "      <td>...</td>\n",
       "      <td>...</td>\n",
       "      <td>...</td>\n",
       "      <td>...</td>\n",
       "      <td>...</td>\n",
       "      <td>...</td>\n",
       "      <td>...</td>\n",
       "      <td>...</td>\n",
       "      <td>...</td>\n",
       "      <td>...</td>\n",
       "      <td>...</td>\n",
       "      <td>...</td>\n",
       "      <td>...</td>\n",
       "    </tr>\n",
       "    <tr>\n",
       "      <th>35882</th>\n",
       "      <td>50</td>\n",
       "      <td>36</td>\n",
       "      <td>17</td>\n",
       "      <td>22</td>\n",
       "      <td>23</td>\n",
       "      <td>29</td>\n",
       "      <td>33</td>\n",
       "      <td>39</td>\n",
       "      <td>34</td>\n",
       "      <td>37</td>\n",
       "      <td>...</td>\n",
       "      <td>215</td>\n",
       "      <td>216</td>\n",
       "      <td>217</td>\n",
       "      <td>221</td>\n",
       "      <td>222</td>\n",
       "      <td>220</td>\n",
       "      <td>223</td>\n",
       "      <td>221</td>\n",
       "      <td>216</td>\n",
       "      <td>6</td>\n",
       "    </tr>\n",
       "    <tr>\n",
       "      <th>35883</th>\n",
       "      <td>178</td>\n",
       "      <td>174</td>\n",
       "      <td>172</td>\n",
       "      <td>173</td>\n",
       "      <td>181</td>\n",
       "      <td>188</td>\n",
       "      <td>191</td>\n",
       "      <td>194</td>\n",
       "      <td>196</td>\n",
       "      <td>199</td>\n",
       "      <td>...</td>\n",
       "      <td>141</td>\n",
       "      <td>136</td>\n",
       "      <td>118</td>\n",
       "      <td>66</td>\n",
       "      <td>7</td>\n",
       "      <td>0</td>\n",
       "      <td>0</td>\n",
       "      <td>0</td>\n",
       "      <td>0</td>\n",
       "      <td>3</td>\n",
       "    </tr>\n",
       "    <tr>\n",
       "      <th>35884</th>\n",
       "      <td>17</td>\n",
       "      <td>17</td>\n",
       "      <td>16</td>\n",
       "      <td>23</td>\n",
       "      <td>28</td>\n",
       "      <td>22</td>\n",
       "      <td>19</td>\n",
       "      <td>17</td>\n",
       "      <td>25</td>\n",
       "      <td>26</td>\n",
       "      <td>...</td>\n",
       "      <td>179</td>\n",
       "      <td>193</td>\n",
       "      <td>193</td>\n",
       "      <td>194</td>\n",
       "      <td>170</td>\n",
       "      <td>148</td>\n",
       "      <td>154</td>\n",
       "      <td>133</td>\n",
       "      <td>113</td>\n",
       "      <td>0</td>\n",
       "    </tr>\n",
       "    <tr>\n",
       "      <th>35885</th>\n",
       "      <td>30</td>\n",
       "      <td>28</td>\n",
       "      <td>28</td>\n",
       "      <td>29</td>\n",
       "      <td>31</td>\n",
       "      <td>30</td>\n",
       "      <td>42</td>\n",
       "      <td>68</td>\n",
       "      <td>79</td>\n",
       "      <td>81</td>\n",
       "      <td>...</td>\n",
       "      <td>27</td>\n",
       "      <td>27</td>\n",
       "      <td>26</td>\n",
       "      <td>28</td>\n",
       "      <td>35</td>\n",
       "      <td>35</td>\n",
       "      <td>35</td>\n",
       "      <td>30</td>\n",
       "      <td>28</td>\n",
       "      <td>3</td>\n",
       "    </tr>\n",
       "    <tr>\n",
       "      <th>35886</th>\n",
       "      <td>19</td>\n",
       "      <td>13</td>\n",
       "      <td>14</td>\n",
       "      <td>12</td>\n",
       "      <td>13</td>\n",
       "      <td>16</td>\n",
       "      <td>21</td>\n",
       "      <td>33</td>\n",
       "      <td>50</td>\n",
       "      <td>57</td>\n",
       "      <td>...</td>\n",
       "      <td>217</td>\n",
       "      <td>209</td>\n",
       "      <td>195</td>\n",
       "      <td>151</td>\n",
       "      <td>99</td>\n",
       "      <td>146</td>\n",
       "      <td>189</td>\n",
       "      <td>199</td>\n",
       "      <td>201</td>\n",
       "      <td>2</td>\n",
       "    </tr>\n",
       "  </tbody>\n",
       "</table>\n",
       "<p>35887 rows × 2305 columns</p>\n",
       "</div>"
      ],
      "text/plain": [
       "       pixel_0  pixel_1  pixel_2  pixel_3  pixel_4  pixel_5  pixel_6  pixel_7  \\\n",
       "0           70       80       82       72       58       58       60       63   \n",
       "1          151      150      147      155      148      133      111      140   \n",
       "2          231      212      156      164      174      138      161      173   \n",
       "3           24       32       36       30       32       23       19       20   \n",
       "4            4        0        0        0        0        0        0        0   \n",
       "...        ...      ...      ...      ...      ...      ...      ...      ...   \n",
       "35882       50       36       17       22       23       29       33       39   \n",
       "35883      178      174      172      173      181      188      191      194   \n",
       "35884       17       17       16       23       28       22       19       17   \n",
       "35885       30       28       28       29       31       30       42       68   \n",
       "35886       19       13       14       12       13       16       21       33   \n",
       "\n",
       "       pixel_8  pixel_9  ...  pixel_2295  pixel_2296  pixel_2297  pixel_2298  \\\n",
       "0           54       58  ...         182         183         136         106   \n",
       "1          170      174  ...         108          95         108         102   \n",
       "2          182      200  ...         138         152         122         114   \n",
       "3           30       41  ...         126         132         132         133   \n",
       "4            0        0  ...          34          31          31          31   \n",
       "...        ...      ...  ...         ...         ...         ...         ...   \n",
       "35882       34       37  ...         215         216         217         221   \n",
       "35883      196      199  ...         141         136         118          66   \n",
       "35884       25       26  ...         179         193         193         194   \n",
       "35885       79       81  ...          27          27          26          28   \n",
       "35886       50       57  ...         217         209         195         151   \n",
       "\n",
       "       pixel_2299  pixel_2300  pixel_2301  pixel_2302  pixel_2303  emotion  \n",
       "0             116          95         106         109          82        0  \n",
       "1              67         171         193         183         184        0  \n",
       "2             101          97          88         110         152        2  \n",
       "3             136         139         142         143         142        4  \n",
       "4              27          31          30          29          30        6  \n",
       "...           ...         ...         ...         ...         ...      ...  \n",
       "35882         222         220         223         221         216        6  \n",
       "35883           7           0           0           0           0        3  \n",
       "35884         170         148         154         133         113        0  \n",
       "35885          35          35          35          30          28        3  \n",
       "35886          99         146         189         199         201        2  \n",
       "\n",
       "[35887 rows x 2305 columns]"
      ]
     },
     "execution_count": 16,
     "metadata": {},
     "output_type": "execute_result"
    }
   ],
   "source": [
    "#df0"
   ]
  },
  {
   "cell_type": "code",
   "execution_count": 11,
   "id": "221f466e",
   "metadata": {},
   "outputs": [
    {
     "name": "stdout",
     "output_type": "stream",
     "text": [
      "<class 'pandas.core.frame.DataFrame'>\n",
      "RangeIndex: 35887 entries, 0 to 35886\n",
      "Columns: 2304 entries, 0 to 2303\n",
      "dtypes: int16(2304)\n",
      "memory usage: 157.7 MB\n"
     ]
    }
   ],
   "source": [
    "#df0.info()"
   ]
  },
  {
   "cell_type": "markdown",
   "id": "ba1651f1",
   "metadata": {},
   "source": [
    "# "
   ]
  },
  {
   "cell_type": "markdown",
   "id": "d36a9518",
   "metadata": {},
   "source": [
    "## Shuffling data sets for testing and training"
   ]
  },
  {
   "cell_type": "markdown",
   "id": "67d807e9",
   "metadata": {},
   "source": [
    "First function splits above dataframe (either representation) into training and testing sets. Standard convention is 80% train and 20% test - this is reflected in arguments. The random argument is an attempt to mimic SK Learns train_test_split function which allows a fixed state of randomness - here fixed state of randomness occurs with random == False and will shuffle the data based on a random seed generated from the number of images in the data, if random is True then each time function is called on the dataframe the shuffling and partitioning into training and testing sets in different. \n",
    "\n",
    "In order to separate labels and data the emotion column is dropped from the training and testing datasets."
   ]
  },
  {
   "cell_type": "code",
   "execution_count": 16,
   "id": "d8103d10",
   "metadata": {},
   "outputs": [],
   "source": [
    "def random_sample(data_frame,random,train_perc = 0.8,test_perc=0.2):\n",
    "    ind = np.array(data_frame.index)\n",
    "    entries = len(ind)\n",
    "    rand_Seed = np.random.randint(0,entries)\n",
    "    fixed_Seed = entries\n",
    "    train_num = round(entries*train_perc)\n",
    "    if random == True:  \n",
    "        rng = np.random.default_rng(rand_Seed)\n",
    "        shuff = rng.choice(ind,size = entries,replace = False)\n",
    "        train_sample = data_frame.iloc[shuff][:train_num]\n",
    "        train_labels = data_frame.iloc[shuff].emotion[:train_num]\n",
    "        test_sample = data_frame.iloc[shuff][train_num:]\n",
    "        test_labels = data_frame.iloc[shuff].emotion[train_num:]\n",
    "    elif random == False:\n",
    "        rng = np.random.default_rng(fixed_Seed)\n",
    "        shuff = rng.choice(ind,size = entries,replace = False)\n",
    "        train_sample = data_frame.iloc[shuff][:train_num]\n",
    "        test_sample = data_frame.iloc[shuff][train_num:]\n",
    "        train_labels = data_frame.iloc[shuff].emotion[:train_num]\n",
    "        test_labels = data_frame.iloc[shuff].emotion[train_num:]\n",
    "    return train_sample.drop(\"emotion\",axis = 1),test_sample.drop(\"emotion\",axis = 1),train_labels,test_labels"
   ]
  },
  {
   "cell_type": "markdown",
   "id": "6c2d416f",
   "metadata": {},
   "source": [
    "---"
   ]
  },
  {
   "cell_type": "markdown",
   "id": "42fca78a",
   "metadata": {},
   "source": [
    "### Formatting different groups"
   ]
  },
  {
   "cell_type": "markdown",
   "id": "9f3c8ef0",
   "metadata": {},
   "source": [
    "Applying random_sample function on our source data in order to produce our 4 data sets required. Random = False is chosen so that patterns remain consistent during development and minimal changes occur."
   ]
  },
  {
   "cell_type": "code",
   "execution_count": 29,
   "id": "c194f323",
   "metadata": {},
   "outputs": [],
   "source": [
    "train_df,test_df,train_labels,test_labels = random_sample(df,True)"
   ]
  },
  {
   "cell_type": "markdown",
   "id": "5b03432e",
   "metadata": {},
   "source": [
    "Test to see if function has been applied correctly and shuffling has worked properly for all sets, should return (true,true) otherwise above function is broken."
   ]
  },
  {
   "cell_type": "code",
   "execution_count": 30,
   "id": "25eb8edf",
   "metadata": {},
   "outputs": [
    {
     "data": {
      "text/plain": [
       "(True, True)"
      ]
     },
     "execution_count": 30,
     "metadata": {},
     "output_type": "execute_result"
    }
   ],
   "source": [
    "(train_labels.index ==  train_df.index).all(),(test_labels.index ==  test_df.index).all()"
   ]
  },
  {
   "cell_type": "markdown",
   "id": "34395685",
   "metadata": {},
   "source": [
    "Checking no data is lost and nominal 80:20 train:test split rounding hasn't gone wrong"
   ]
  },
  {
   "cell_type": "code",
   "execution_count": 31,
   "id": "36eddc4b",
   "metadata": {},
   "outputs": [
    {
     "data": {
      "text/plain": [
       "True"
      ]
     },
     "execution_count": 31,
     "metadata": {},
     "output_type": "execute_result"
    }
   ],
   "source": [
    "number_of_images(df) ==  number_of_images(train_df) + number_of_images(test_df)"
   ]
  },
  {
   "cell_type": "markdown",
   "id": "f1f1d24a",
   "metadata": {},
   "source": [
    "Variable inp_dim should not have changed from above but recalling it anyway, and introducing the number of images in train and test sets"
   ]
  },
  {
   "cell_type": "code",
   "execution_count": 32,
   "id": "a0d0152c",
   "metadata": {},
   "outputs": [],
   "source": [
    "inp_dim= image_dimension(train_df)\n",
    "num_dim_X_train = number_of_images(train_df)\n",
    "num_dim_X_test = number_of_images(test_df)"
   ]
  },
  {
   "cell_type": "code",
   "execution_count": 33,
   "id": "029691b4",
   "metadata": {},
   "outputs": [
    {
     "data": {
      "text/plain": [
       "(7177, 28710, 48)"
      ]
     },
     "execution_count": 33,
     "metadata": {},
     "output_type": "execute_result"
    }
   ],
   "source": [
    "num_dim_X_test,num_dim_X_train, inp_dim"
   ]
  },
  {
   "cell_type": "markdown",
   "id": "0ac6ceb4",
   "metadata": {},
   "source": [
    "---"
   ]
  },
  {
   "cell_type": "markdown",
   "id": "59e09d7a",
   "metadata": {},
   "source": [
    "#### Defining training and testing data in TF friendly form - final version"
   ]
  },
  {
   "cell_type": "markdown",
   "id": "ec143d48",
   "metadata": {},
   "source": [
    "---"
   ]
  },
  {
   "cell_type": "markdown",
   "id": "8e8c06e1",
   "metadata": {},
   "source": [
    "Division by 255 on X sets is to normalise pixel values s.t. they exist on [0,1]. Improves CNN efficiency"
   ]
  },
  {
   "cell_type": "code",
   "execution_count": 34,
   "id": "b4970aac",
   "metadata": {},
   "outputs": [],
   "source": [
    "X_train = np.stack(train_df.pixels_mat).reshape(num_dim_X_train, inp_dim, inp_dim,1)/255"
   ]
  },
  {
   "cell_type": "code",
   "execution_count": 35,
   "id": "cf07012b",
   "metadata": {},
   "outputs": [],
   "source": [
    "Y_train = train_labels.values.reshape(num_dim_X_train,1)"
   ]
  },
  {
   "cell_type": "code",
   "execution_count": 36,
   "id": "97ba6148",
   "metadata": {},
   "outputs": [],
   "source": [
    "X_test = np.stack(test_df.pixels_mat).reshape(num_dim_X_test, inp_dim, inp_dim,1)/255"
   ]
  },
  {
   "cell_type": "code",
   "execution_count": 37,
   "id": "1dc97727",
   "metadata": {},
   "outputs": [],
   "source": [
    "Y_test = test_labels.values.reshape(num_dim_X_test,1)"
   ]
  },
  {
   "cell_type": "markdown",
   "id": "72249880",
   "metadata": {},
   "source": [
    "---"
   ]
  },
  {
   "cell_type": "markdown",
   "id": "ac27a20c",
   "metadata": {},
   "source": [
    "---"
   ]
  },
  {
   "cell_type": "markdown",
   "id": "7b55346b",
   "metadata": {},
   "source": [
    "#### Unfortunately there is a class imbalance in the dataset - this will make training harder and some provision will need to be made for this."
   ]
  },
  {
   "cell_type": "markdown",
   "id": "c1332737",
   "metadata": {},
   "source": [
    "In training data:"
   ]
  },
  {
   "cell_type": "code",
   "execution_count": 38,
   "id": "74f465f5",
   "metadata": {},
   "outputs": [
    {
     "data": {
      "text/plain": [
       "0    3937\n",
       "1     447\n",
       "2    4095\n",
       "3    7181\n",
       "4    4909\n",
       "5    3185\n",
       "6    4956\n",
       "dtype: int64"
      ]
     },
     "execution_count": 38,
     "metadata": {},
     "output_type": "execute_result"
    }
   ],
   "source": [
    "pd.value_counts(np.ravel(Y_train)).iloc[np.argsort(pd.value_counts(np.ravel(Y_train)).index)]"
   ]
  },
  {
   "cell_type": "markdown",
   "id": "7a556e37",
   "metadata": {},
   "source": [
    "In testing data:"
   ]
  },
  {
   "cell_type": "code",
   "execution_count": 39,
   "id": "ed906414",
   "metadata": {},
   "outputs": [
    {
     "data": {
      "text/plain": [
       "0    1016\n",
       "1     100\n",
       "2    1026\n",
       "3    1808\n",
       "4    1168\n",
       "5     817\n",
       "6    1242\n",
       "dtype: int64"
      ]
     },
     "execution_count": 39,
     "metadata": {},
     "output_type": "execute_result"
    }
   ],
   "source": [
    "pd.value_counts(np.ravel(Y_test)).iloc[np.argsort(pd.value_counts(np.ravel(Y_test)).index)]"
   ]
  },
  {
   "cell_type": "markdown",
   "id": "324fdd11",
   "metadata": {},
   "source": [
    "# "
   ]
  },
  {
   "cell_type": "markdown",
   "id": "b78c1bd3",
   "metadata": {},
   "source": [
    "## Visualising first 10 images in training set to check labels are correct"
   ]
  },
  {
   "cell_type": "code",
   "execution_count": 51,
   "id": "ebb847e4",
   "metadata": {
    "scrolled": true
   },
   "outputs": [
    {
     "data": {
      "image/png": "[encoded data removed]",
      "text/plain": [
       "<Figure size 432x288 with 1 Axes>"
      ]
     },
     "metadata": {
      "needs_background": "light"
     },
     "output_type": "display_data"
    },
    {
     "data": {
      "image/png": "[encoded data removed]",
      "text/plain": [
       "<Figure size 432x288 with 1 Axes>"
      ]
     },
     "metadata": {
      "needs_background": "light"
     },
     "output_type": "display_data"
    },
    {
     "data": {
      "image/png": "[encoded data removed]",
      "text/plain": [
       "<Figure size 432x288 with 1 Axes>"
      ]
     },
     "metadata": {
      "needs_background": "light"
     },
     "output_type": "display_data"
    },
    {
     "data": {
      "image/png": "[encoded data removed]",
      "text/plain": [
       "<Figure size 432x288 with 1 Axes>"
      ]
     },
     "metadata": {
      "needs_background": "light"
     },
     "output_type": "display_data"
    },
    {
     "data": {
      "image/png": "[encoded data removed]",
      "text/plain": [
       "<Figure size 432x288 with 1 Axes>"
      ]
     },
     "metadata": {
      "needs_background": "light"
     },
     "output_type": "display_data"
    },
    {
     "data": {
      "image/png": "[encoded data removed]",
      "text/plain": [
       "<Figure size 432x288 with 1 Axes>"
      ]
     },
     "metadata": {
      "needs_background": "light"
     },
     "output_type": "display_data"
    },
    {
     "data": {
      "image/png": "[encoded data removed]",
      "text/plain": [
       "<Figure size 432x288 with 1 Axes>"
      ]
     },
     "metadata": {
      "needs_background": "light"
     },
     "output_type": "display_data"
    },
    {
     "data": {
      "image/png": "[encoded data removed]",
      "text/plain": [
       "<Figure size 432x288 with 1 Axes>"
      ]
     },
     "metadata": {
      "needs_background": "light"
     },
     "output_type": "display_data"
    },
    {
     "data": {
      "image/png": "[encoded data removed]",
      "text/plain": [
       "<Figure size 432x288 with 1 Axes>"
      ]
     },
     "metadata": {
      "needs_background": "light"
     },
     "output_type": "display_data"
    },
    {
     "data": {
      "image/png": "[encoded data removed]",
      "text/plain": [
       "<Figure size 432x288 with 1 Axes>"
      ]
     },
     "metadata": {
      "needs_background": "light"
     },
     "output_type": "display_data"
    }
   ],
   "source": [
    "for i in range(10):    \n",
    "    img_1 = train_df.iloc[i].pixels_mat/255\n",
    "    text = train_labels.map(emotion_dict).iloc[i]\n",
    "    plt.figure()\n",
    "    plt.imshow(img_1)\n",
    "    plt.grid(False)\n",
    "    plt.xlabel(text)\n",
    "    plt.show()"
   ]
  },
  {
   "cell_type": "markdown",
   "id": "34c84710",
   "metadata": {},
   "source": [
    "# "
   ]
  },
  {
   "cell_type": "markdown",
   "id": "01b1abcc",
   "metadata": {},
   "source": [
    "## Using TF to create CNN model"
   ]
  },
  {
   "cell_type": "code",
   "execution_count": 41,
   "id": "82469bc4",
   "metadata": {},
   "outputs": [],
   "source": [
    "InputShape = list(X_train.shape)\n",
    "InputShape = np.array(InputShape)"
   ]
  },
  {
   "cell_type": "code",
   "execution_count": 42,
   "id": "89f8cc6e",
   "metadata": {},
   "outputs": [
    {
     "data": {
      "text/plain": [
       "array([28710,    48,    48,     1])"
      ]
     },
     "execution_count": 42,
     "metadata": {},
     "output_type": "execute_result"
    }
   ],
   "source": [
    "InputShape"
   ]
  },
  {
   "cell_type": "code",
   "execution_count": 43,
   "id": "f5337f11",
   "metadata": {},
   "outputs": [],
   "source": [
    "def gen_model(train_data,labels):\n",
    "    count_end = len(pd.unique(np.ravel(labels)))\n",
    "    model = tf.keras.Sequential()\n",
    "    model.add(Conv2D(16,(8,8),activation = \"relu\",input_shape = InputShape[1:]))\n",
    "    model.add(AveragePooling2D(2,2))\n",
    "    model.add(Conv2D(32,(6,6),activation = \"relu\"))\n",
    "    model.add(MaxPooling2D(2,2))\n",
    "    model.add(Conv2D(64,(4,4),activation = \"relu\"))\n",
    "    model.add(MaxPooling2D(2,2))\n",
    "    #model.add(layers.Conv2D(64, (3, 3), activation='relu'))\n",
    "    # flattens the image array for final neurons, needs to come before dense layer\n",
    "    model.add(layers.Flatten())\n",
    "    model.add(Dense(128,activation=\"relu\",kernel_initializer=\"he_normal\"))\n",
    "    #model.add(Dense(64,activation=\"relu\", kernel_initializer=\"he_normal\"))\n",
    "    #model.add(Dense(32,activation=\"relu\", kernel_initializer=\"he_normal\"))\n",
    "\n",
    "    model.add(Dense(count_end, activation=\"softmax\"))\n",
    "    return model"
   ]
  },
  {
   "cell_type": "code",
   "execution_count": 44,
   "id": "e922ad0d",
   "metadata": {},
   "outputs": [],
   "source": [
    "def config_model(model,logits=True):\n",
    "    model.compile(optimizer= optimizers.Adam(learning_rate=1e-3),\n",
    "              loss=tf.keras.losses.SparseCategoricalCrossentropy(from_logits=logits),\n",
    "              metrics=['accuracy'])\n",
    "    return model"
   ]
  },
  {
   "cell_type": "code",
   "execution_count": 45,
   "id": "e24aecd8",
   "metadata": {},
   "outputs": [],
   "source": [
    "def fit_model(train_data,train_targets,test_data,test_targets,epoch_iterations,model):\n",
    "    model = model.fit(x = train_data,y= train_targets,epochs= epoch_iterations,\n",
    "                     validation_data=(test_data, test_targets))\n",
    "    return model   "
   ]
  },
  {
   "cell_type": "code",
   "execution_count": 46,
   "id": "825332a7",
   "metadata": {},
   "outputs": [],
   "source": [
    "ml = gen_model(X_train,Y_train)"
   ]
  },
  {
   "cell_type": "code",
   "execution_count": 47,
   "id": "0b8102ce",
   "metadata": {},
   "outputs": [],
   "source": [
    "ml = config_model(ml,False)"
   ]
  },
  {
   "cell_type": "code",
   "execution_count": 48,
   "id": "4fd34837",
   "metadata": {},
   "outputs": [
    {
     "name": "stdout",
     "output_type": "stream",
     "text": [
      "Model: \"sequential\"\n",
      "_________________________________________________________________\n",
      " Layer (type)                Output Shape              Param #   \n",
      "=================================================================\n",
      " conv2d (Conv2D)             (None, 41, 41, 16)        1040      \n",
      "                                                                 \n",
      " average_pooling2d (AverageP  (None, 20, 20, 16)       0         \n",
      " ooling2D)                                                       \n",
      "                                                                 \n",
      " conv2d_1 (Conv2D)           (None, 15, 15, 32)        18464     \n",
      "                                                                 \n",
      " max_pooling2d (MaxPooling2D  (None, 7, 7, 32)         0         \n",
      " )                                                               \n",
      "                                                                 \n",
      " conv2d_2 (Conv2D)           (None, 4, 4, 64)          32832     \n",
      "                                                                 \n",
      " max_pooling2d_1 (MaxPooling  (None, 2, 2, 64)         0         \n",
      " 2D)                                                             \n",
      "                                                                 \n",
      " flatten (Flatten)           (None, 256)               0         \n",
      "                                                                 \n",
      " dense (Dense)               (None, 128)               32896     \n",
      "                                                                 \n",
      " dense_1 (Dense)             (None, 7)                 903       \n",
      "                                                                 \n",
      "=================================================================\n",
      "Total params: 86,135\n",
      "Trainable params: 86,135\n",
      "Non-trainable params: 0\n",
      "_________________________________________________________________\n"
     ]
    }
   ],
   "source": [
    "ml.summary()"
   ]
  },
  {
   "cell_type": "code",
   "execution_count": 49,
   "id": "545b6660",
   "metadata": {},
   "outputs": [
    {
     "name": "stdout",
     "output_type": "stream",
     "text": [
      "Epoch 1/5\n",
      "898/898 [==============================] - 45s 48ms/step - loss: 1.7494 - accuracy: 0.2924 - val_loss: 1.6182 - val_accuracy: 0.3690\n",
      "Epoch 2/5\n",
      "898/898 [==============================] - 48s 54ms/step - loss: 1.5692 - accuracy: 0.3864 - val_loss: 1.5373 - val_accuracy: 0.4042\n",
      "Epoch 3/5\n",
      "898/898 [==============================] - 64s 72ms/step - loss: 1.4847 - accuracy: 0.4232 - val_loss: 1.4801 - val_accuracy: 0.4283\n",
      "Epoch 4/5\n",
      "898/898 [==============================] - 63s 70ms/step - loss: 1.4247 - accuracy: 0.4497 - val_loss: 1.4392 - val_accuracy: 0.4468\n",
      "Epoch 5/5\n",
      "898/898 [==============================] - 58s 64ms/step - loss: 1.3736 - accuracy: 0.4726 - val_loss: 1.4249 - val_accuracy: 0.4491\n"
     ]
    }
   ],
   "source": [
    "fit_ml = fit_model(X_train,Y_train,X_test,Y_test,5,ml)"
   ]
  },
  {
   "cell_type": "code",
   "execution_count": 50,
   "id": "d940a431",
   "metadata": {},
   "outputs": [],
   "source": [
    "# with kernel_int as he normal get ~25% accuracy, much lower without"
   ]
  },
  {
   "cell_type": "code",
   "execution_count": 628,
   "id": "5de9e4e9",
   "metadata": {},
   "outputs": [
    {
     "data": {
      "text/plain": [
       "<matplotlib.legend.Legend at 0x1ab084c7eb0>"
      ]
     },
     "execution_count": 628,
     "metadata": {},
     "output_type": "execute_result"
    },
    {
     "data": {
      "image/png": "[encoded data removed]",
      "text/plain": [
       "<Figure size 432x288 with 1 Axes>"
      ]
     },
     "metadata": {
      "needs_background": "light"
     },
     "output_type": "display_data"
    }
   ],
   "source": [
    "plt.plot(fit_ml.history['accuracy'], label='accuracy')\n",
    "plt.plot(fit_ml.history['val_accuracy'], label = 'val_accuracy')\n",
    "plt.xlabel('Epoch')\n",
    "plt.ylabel('Accuracy')\n",
    "#plt.ylim([0, 1])\n",
    "plt.legend(loc='lower right')"
   ]
  },
  {
   "cell_type": "code",
   "execution_count": null,
   "id": "d05541f7",
   "metadata": {},
   "outputs": [],
   "source": []
  },
  {
   "cell_type": "code",
   "execution_count": null,
   "id": "19cdd8cc",
   "metadata": {},
   "outputs": [],
   "source": []
  },
  {
   "cell_type": "code",
   "execution_count": null,
   "id": "bcca4b56",
   "metadata": {},
   "outputs": [],
   "source": []
  }
 ],
 "metadata": {
  "kernelspec": {
   "display_name": "Python 3 (ipykernel)",
   "language": "python",
   "name": "python3"
  },
  "language_info": {
   "codemirror_mode": {
    "name": "ipython",
    "version": 3
   },
   "file_extension": ".py",
   "mimetype": "text/x-python",
   "name": "python",
   "nbconvert_exporter": "python",
   "pygments_lexer": "ipython3",
   "version": "3.8.13"
  }
 },
 "nbformat": 4,
 "nbformat_minor": 5
}
